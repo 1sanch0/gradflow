{
 "cells": [
  {
   "cell_type": "code",
   "execution_count": 1,
   "metadata": {},
   "outputs": [],
   "source": [
    "from gradflow import Tensor\n",
    "import gradflow.functions as F\n",
    "\n",
    "import torch\n",
    "import torch.nn as nn\n",
    "\n",
    "import numpy as np\n",
    "from numpy.lib.stride_tricks import as_strided"
   ]
  },
  {
   "cell_type": "code",
   "execution_count": 2,
   "metadata": {},
   "outputs": [],
   "source": [
    "def max_pool(image: np.ndarray, kernel_size: tuple[int, int], stride: int) -> np.ndarray:\n",
    "  bs, c, w, h = image.shape\n",
    "  kw, kh = kernel_size\n",
    "  nb = image.dtype.itemsize\n",
    "\n",
    "  new_w = (w - kw) // stride + 1\n",
    "  new_h = (h - kh) // stride + 1\n",
    "\n",
    "  patches = as_strided(image, shape=(bs, c, new_w, new_h, kw, kh),\n",
    "                              strides=(\n",
    "                                c*w*h*nb,\n",
    "                                h*w*nb,\n",
    "                                stride*w*nb, stride*nb, w*nb, nb))\n",
    "\n",
    "  return patches, patches.max((-2, -1))"
   ]
  },
  {
   "cell_type": "code",
   "execution_count": 3,
   "metadata": {},
   "outputs": [],
   "source": [
    "def max_pool_backward(im, patches, max_patches):\n",
    "  # Max backward\n",
    "  indices = np.where(patches == max_patches[:,:,:,:,None,None])\n",
    "  grad = np.zeros_like(patches)\n",
    "  grad[indices] = 1 # passing_grad.ravel() o * passing_grad\n",
    "\n",
    "  print(\"mn fw max old shape\", patches.shape)\n",
    "  print(\"mn fw max old strides\", patches.strides)\n",
    "  print(\"mn bk max new_grad shape\", grad.shape)\n",
    "  print(\"mn bk max new_grad strides\", grad.strides)\n",
    "  print()\n",
    "  # print(grad.shape)\n",
    "\n",
    "  # as strided backward\n",
    "\n",
    "  print(\"im shape\", im.shape)\n",
    "  print(\"im strides\", im.strides)\n",
    "  re_strided_grad = as_strided(grad, im.shape, im.strides)\n",
    "  print(\"reim shape\", re_strided_grad.shape)\n",
    "  print(\"reim strides\", re_strided_grad.strides)\n",
    "\n",
    "\n",
    "  # return re_strided_grad"
   ]
  },
  {
   "cell_type": "code",
   "execution_count": 4,
   "metadata": {},
   "outputs": [],
   "source": [
    "im = np.arange(1, 49).reshape(1, 3, 4, 4).repeat(2, 0)\n",
    "kernel = np.array([1,2,1,2,1,2,1,2,1,2,1,2]).reshape(1, 3, 2, 2).repeat(4, 0)\n",
    "patches, maxpool = max_pool(im, (2, 2), 2)"
   ]
  },
  {
   "cell_type": "code",
   "execution_count": 5,
   "metadata": {},
   "outputs": [],
   "source": [
    "# Bug\n",
    "# patches.max(), np.expand_dims(maxpool, None)"
   ]
  },
  {
   "cell_type": "code",
   "execution_count": 6,
   "metadata": {},
   "outputs": [],
   "source": [
    "# max_pool_backward(im, patches, maxpool)"
   ]
  },
  {
   "cell_type": "code",
   "execution_count": 7,
   "metadata": {},
   "outputs": [],
   "source": [
    "# as_strided(patches, im.shape, im.strides)"
   ]
  },
  {
   "cell_type": "code",
   "execution_count": 9,
   "metadata": {},
   "outputs": [
    {
     "name": "stdout",
     "output_type": "stream",
     "text": [
      "fw strides Old shape (2, 3, 4, 4)\n",
      "fw strides Old strides (384, 128, 32, 8)\n",
      "strides Old dtype float64\n",
      "fw strides New shape (2, 3, 2, 2, 2, 2)\n",
      "fw strides New strides (384, 128, 64, 16, 32, 8)\n",
      "\n",
      "max old shape (2, 3, 2, 2, 2, 2)\n",
      "max old strides (192, 64, 32, 8, 16, 4)\n",
      "fw max new shape (2, 3, 2, 2)\n",
      "fw max new strides (48, 16, 8, 4)\n",
      "\n",
      "fw sum shape (2, 3, 2, 2)\n",
      "fw sum strides (48, 16, 8, 4)\n",
      "bk grad shape (2, 3, 2, 2)\n",
      "bk grad strides (48, 16, 8, 4)\n",
      "\n",
      "bk max grad shape (2, 3, 2, 2)\n",
      "bk max grad strides (48, 16, 8, 4)\n",
      "===============\n",
      "bk max new_grad shape (2, 3, 2, 2, 2, 2)\n",
      "bk max new_grad strides (192, 64, 32, 8, 16, 4)\n",
      "===============\n",
      "\n",
      "bk strides Old shape (2, 3, 4, 4)\n",
      "bk strides Old strides (384, 128, 32, 8)\n",
      "bk strides grad shape (2, 3, 2, 2, 2, 2)\n",
      "bk strides grad strides (192, 64, 32, 8, 16, 4)\n",
      "strides grad dtype float32\n",
      "\n"
     ]
    }
   ],
   "source": [
    "mp = F.MaxPool2D(2, 2)\n",
    "\n",
    "gim = Tensor(im, requires_grad=True, dtype=np.float64)\n",
    "mpool = mp(gim)\n",
    "f = mpool.mean()\n",
    "f.backward()\n",
    "\n",
    "# gim.grad.astype(np.float16)\n",
    "\n",
    "# mn fw max old shape (2, 3, 2, 2, 2, 2)\n",
    "# mn fw max old strides (384, 128, 64, 16, 32, 8)"
   ]
  },
  {
   "cell_type": "code",
   "execution_count": 20,
   "metadata": {},
   "outputs": [],
   "source": [
    "# gim.grad"
   ]
  },
  {
   "cell_type": "code",
   "execution_count": 11,
   "metadata": {},
   "outputs": [],
   "source": [
    "# mpool"
   ]
  },
  {
   "cell_type": "code",
   "execution_count": 38,
   "metadata": {},
   "outputs": [
    {
     "name": "stdout",
     "output_type": "stream",
     "text": [
      "fw strides Old shape (2, 3, 4, 4)\n",
      "fw strides Old strides (192, 64, 16, 4)\n",
      "strides Old dtype float32\n",
      "fw strides New shape (2, 3, 3, 3, 2, 2)\n",
      "fw strides New strides (64, 16, 4, 64, 16, 4)\n",
      "\n",
      "fw sum shape (2, 4, 3, 3)\n",
      "fw sum strides (144, 36, 12, 4)\n",
      "bk grad shape (2, 4, 3, 3)\n",
      "bk grad strides (144, 36, 12, 4)\n",
      "\n"
     ]
    },
    {
     "data": {
      "text/plain": [
       "((4, 3, 2, 2), (4, 64, 32, 16))"
      ]
     },
     "execution_count": 38,
     "metadata": {},
     "output_type": "execute_result"
    }
   ],
   "source": [
    "\n",
    "\n",
    "o = F.Conv2d(3, 4, 2, 1, bias=False)\n",
    "o.weight = Tensor(kernel, requires_grad=True)\n",
    "oz = o(Tensor(im))\n",
    "oz = oz.mean()\n",
    "oz.backward()\n",
    "o.weight.grad.shape, o.weight.grad.strides"
   ]
  },
  {
   "cell_type": "code",
   "execution_count": 32,
   "metadata": {},
   "outputs": [],
   "source": [
    "tim = torch.tensor(im, dtype=torch.float32)\n",
    "conv = nn.Conv2d(3, 4, 2, stride=1, bias=False)\n",
    "maxpool = nn.MaxPool2d((2,2), 2)\n",
    "conv.weight = nn.Parameter(torch.tensor(kernel, dtype=torch.float32))\n",
    "# conv.bias = nn.Parameter(torch.tensor(o.bias.data.reshape(-1), dtype=torch.float32))\n",
    "\n",
    "z = conv(tim)\n",
    "z = z.mean()\n",
    "z.backward()\n",
    "\n",
    "# gtim = torch.tensor(im, dtype=torch.float32, requires_grad=True)\n",
    "# tpool = maxpool(gtim)\n",
    "# tf = tpool.mean()\n",
    "# tf.backward()"
   ]
  },
  {
   "cell_type": "code",
   "execution_count": 46,
   "metadata": {},
   "outputs": [
    {
     "data": {
      "text/plain": [
       "array([ 1.5      ,  1.75     ,  2.5000002,  2.75     ,  5.5      ,\n",
       "        5.75     ,  6.5      ,  6.75     ,  9.5      ,  9.75     ,\n",
       "       10.5      , 10.75     ,  1.5      ,  1.75     ,  2.5000002,\n",
       "        2.75     ,  5.5      ,  5.75     ,  6.5      ,  6.75     ,\n",
       "        9.5      ,  9.75     , 10.5      , 10.75     ,  1.5      ,\n",
       "        1.75     ,  2.5000002,  2.75     ,  5.5      ,  5.75     ,\n",
       "        6.5      ,  6.75     ,  9.5      ,  9.75     , 10.5      ,\n",
       "       10.75     ,  1.5      ,  1.75     ,  2.5000002,  2.75     ,\n",
       "        5.5      ,  5.75     ,  6.5      ,  6.75     ,  9.5      ,\n",
       "        9.75     , 10.5      , 10.75     ], dtype=float32)"
      ]
     },
     "execution_count": 46,
     "metadata": {},
     "output_type": "execute_result"
    }
   ],
   "source": [
    "conv.weight.grad.numpy().ravel()"
   ]
  },
  {
   "cell_type": "code",
   "execution_count": 45,
   "metadata": {},
   "outputs": [
    {
     "data": {
      "text/plain": [
       "array([3.5 , 3.75, 4.5 , 4.75, 7.5 , 7.75, 8.5 , 8.75, 5.5 , 5.75, 6.5 ,\n",
       "       6.75, 3.5 , 3.75, 4.5 , 4.75, 7.5 , 7.75, 8.5 , 8.75, 5.5 , 5.75,\n",
       "       6.5 , 6.75, 3.5 , 3.75, 4.5 , 4.75, 7.5 , 7.75, 8.5 , 8.75, 5.5 ,\n",
       "       5.75, 6.5 , 6.75, 3.5 , 3.75, 4.5 , 4.75, 7.5 , 7.75, 8.5 , 8.75,\n",
       "       5.5 , 5.75, 6.5 , 6.75], dtype=float32)"
      ]
     },
     "execution_count": 45,
     "metadata": {},
     "output_type": "execute_result"
    }
   ],
   "source": [
    "o.weight.grad.ravel()"
   ]
  },
  {
   "cell_type": "code",
   "execution_count": 34,
   "metadata": {},
   "outputs": [],
   "source": [
    "# gtim.grad"
   ]
  },
  {
   "cell_type": "code",
   "execution_count": 15,
   "metadata": {},
   "outputs": [],
   "source": [
    "# np.allclose(mpool, tpool.detach().numpy())"
   ]
  },
  {
   "cell_type": "code",
   "execution_count": 16,
   "metadata": {},
   "outputs": [
    {
     "ename": "NameError",
     "evalue": "name 'oz' is not defined",
     "output_type": "error",
     "traceback": [
      "\u001b[0;31m---------------------------------------------------------------------------\u001b[0m",
      "\u001b[0;31mNameError\u001b[0m                                 Traceback (most recent call last)",
      "\u001b[0;32m/tmp/ipykernel_645281/2019096798.py\u001b[0m in \u001b[0;36m<module>\u001b[0;34m\u001b[0m\n\u001b[0;32m----> 1\u001b[0;31m \u001b[0mnp\u001b[0m\u001b[0;34m.\u001b[0m\u001b[0mallclose\u001b[0m\u001b[0;34m(\u001b[0m\u001b[0moz\u001b[0m\u001b[0;34m.\u001b[0m\u001b[0mdata\u001b[0m\u001b[0;34m,\u001b[0m \u001b[0mz\u001b[0m\u001b[0;34m.\u001b[0m\u001b[0mdetach\u001b[0m\u001b[0;34m(\u001b[0m\u001b[0;34m)\u001b[0m\u001b[0;34m.\u001b[0m\u001b[0mnumpy\u001b[0m\u001b[0;34m(\u001b[0m\u001b[0;34m)\u001b[0m\u001b[0;34m)\u001b[0m\u001b[0;34m\u001b[0m\u001b[0;34m\u001b[0m\u001b[0m\n\u001b[0m",
      "\u001b[0;31mNameError\u001b[0m: name 'oz' is not defined"
     ]
    }
   ],
   "source": [
    "np.allclose(oz.data, z.detach().numpy())"
   ]
  },
  {
   "cell_type": "code",
   "execution_count": null,
   "metadata": {},
   "outputs": [],
   "source": [
    "np.allclose(o.weight.data, conv.weight.detach().numpy())"
   ]
  },
  {
   "cell_type": "code",
   "execution_count": null,
   "metadata": {},
   "outputs": [],
   "source": [
    "np.allclose(o.weight.grad, conv.weight.grad.numpy())"
   ]
  },
  {
   "cell_type": "code",
   "execution_count": null,
   "metadata": {},
   "outputs": [],
   "source": [
    "o.bias"
   ]
  },
  {
   "cell_type": "code",
   "execution_count": null,
   "metadata": {},
   "outputs": [],
   "source": [
    "conv.bias"
   ]
  },
  {
   "cell_type": "code",
   "execution_count": null,
   "metadata": {},
   "outputs": [],
   "source": [
    "np.allclose(o.bias.data.reshape(-1), conv.bias.detach().numpy())"
   ]
  },
  {
   "cell_type": "code",
   "execution_count": null,
   "metadata": {},
   "outputs": [],
   "source": []
  }
 ],
 "metadata": {
  "kernelspec": {
   "display_name": "pytorch",
   "language": "python",
   "name": "python3"
  },
  "language_info": {
   "codemirror_mode": {
    "name": "ipython",
    "version": 3
   },
   "file_extension": ".py",
   "mimetype": "text/x-python",
   "name": "python",
   "nbconvert_exporter": "python",
   "pygments_lexer": "ipython3",
   "version": "3.9.12 (main, Jun  1 2022, 11:38:51) \n[GCC 7.5.0]"
  },
  "orig_nbformat": 4,
  "vscode": {
   "interpreter": {
    "hash": "cf02708cd20c34b8c5fbdb84cf5bc390e544dcf1e33c5533341fd4b6086ccda4"
   }
  }
 },
 "nbformat": 4,
 "nbformat_minor": 2
}
