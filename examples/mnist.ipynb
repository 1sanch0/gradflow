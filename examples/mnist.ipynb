{
 "cells": [
  {
   "cell_type": "code",
   "execution_count": 1,
   "metadata": {},
   "outputs": [],
   "source": [
    "from gradflow import Tensor\n",
    "from gradflow.model import Model\n",
    "import gradflow.functions as F\n",
    "from gradflow.optim import *\n",
    "\n",
    "from datasets.mnist import MNISTDataset\n",
    "\n",
    "import numpy as np\n",
    "import matplotlib.pyplot as plt"
   ]
  },
  {
   "cell_type": "code",
   "execution_count": 2,
   "metadata": {},
   "outputs": [],
   "source": [
    "class Net(Model):\n",
    "  def __init__(self):\n",
    "    super().__init__()\n",
    "\n",
    "    self.dense0 = F.Linear(28*28, 16)\n",
    "    self.relu = F.ReLU()\n",
    "    self.dense1 =  F.Linear(16, 10)\n",
    "    self.logsoftmax = F.LogSoftmax(dim=-1)\n",
    "  \n",
    "  def forward(self, x) -> Tensor:\n",
    "    out = self.dense0(x)\n",
    "    out = self.relu(out)\n",
    "    out = self.dense1(out)\n",
    "    return self.logsoftmax(out)"
   ]
  },
  {
   "cell_type": "code",
   "execution_count": 3,
   "metadata": {},
   "outputs": [
    {
     "name": "stdout",
     "output_type": "stream",
     "text": [
      "train-images-idx3-ubyte.gz already exists in ../data. Skipping...\n",
      "t10k-images-idx3-ubyte.gz already exists in ../data. Skipping...\n",
      "train-labels-idx1-ubyte.gz already exists in ../data. Skipping...\n",
      "t10k-labels-idx1-ubyte.gz already exists in ../data. Skipping...\n",
      "train-images-idx3-ubyte.gz already exists in ../data. Skipping...\n",
      "t10k-images-idx3-ubyte.gz already exists in ../data. Skipping...\n",
      "train-labels-idx1-ubyte.gz already exists in ../data. Skipping...\n",
      "t10k-labels-idx1-ubyte.gz already exists in ../data. Skipping...\n"
     ]
    }
   ],
   "source": [
    "train_dset = MNISTDataset(\"../data/\", batch_size=32*3)\n",
    "test_dset = MNISTDataset(\"../data/\", batch_size=10, train=False)"
   ]
  },
  {
   "cell_type": "code",
   "execution_count": 4,
   "metadata": {},
   "outputs": [],
   "source": [
    "def testit(dset, model, criterion):\n",
    "  loss = 0\n",
    "  corrects = 0\n",
    "  for imgs, labels in dset:\n",
    "    outputs = model(imgs)\n",
    "    loss += criterion(outputs, labels).data\n",
    "\n",
    "    preds = outputs.data.argmax(axis=1)\n",
    "    labels = labels.data.argmax(axis=1)\n",
    "    corrects += ((preds == labels).sum() / labels.size)\n",
    "\n",
    "  return loss / len(dset), corrects / len(dset)\n",
    "    "
   ]
  },
  {
   "cell_type": "code",
   "execution_count": 5,
   "metadata": {},
   "outputs": [],
   "source": [
    "model = Net()\n",
    "criterion = F.NLLLoss(indexed=False)\n",
    "optimizer = Adam(model.parameters(), 0.001, 0.001)\n",
    "# optimizer = RMSprop(model.parameters(), 0.001, 0.001, 0.99)\n",
    "# optimizer = SGD(model.parameters(), 0.001, 0.001, 0.9, False)\n",
    "# optimizer = Adagrad(model.parameters(), 0.01, 0.001, eps=1e-4)\n",
    "# optimizer = SGD(model.parameters(), 0.001, 0, 0., True)"
   ]
  },
  {
   "cell_type": "code",
   "execution_count": 6,
   "metadata": {},
   "outputs": [
    {
     "name": "stdout",
     "output_type": "stream",
     "text": [
      "=============================\n",
      "Last 500 train | avg. loss: 1.0776, acc: 0.6725\n",
      "Test           | avg. loss: 0.4523, acc: 0.8678\n",
      "=============================\n",
      "=============================\n",
      "Last 500 train | avg. loss: 0.3751, acc: 0.8895\n",
      "Test           | avg. loss: 0.3180, acc: 0.9082\n",
      "=============================\n",
      "=============================\n",
      "Last 500 train | avg. loss: 0.3019, acc: 0.9115\n",
      "Test           | avg. loss: 0.2733, acc: 0.9222\n",
      "=============================\n",
      "=============================\n",
      "Last 500 train | avg. loss: 0.2633, acc: 0.9231\n",
      "Test           | avg. loss: 0.2459, acc: 0.9275\n",
      "=============================\n",
      "=============================\n",
      "Last 500 train | avg. loss: 0.2379, acc: 0.9311\n",
      "Test           | avg. loss: 0.2268, acc: 0.9337\n",
      "=============================\n",
      "=============================\n",
      "Last 500 train | avg. loss: 0.2209, acc: 0.9359\n",
      "Test           | avg. loss: 0.2136, acc: 0.9371\n",
      "=============================\n",
      "=============================\n",
      "Last 500 train | avg. loss: 0.2088, acc: 0.9394\n",
      "Test           | avg. loss: 0.2038, acc: 0.9414\n",
      "=============================\n",
      "=============================\n",
      "Last 500 train | avg. loss: 0.1998, acc: 0.9421\n",
      "Test           | avg. loss: 0.1960, acc: 0.9437\n",
      "=============================\n",
      "=============================\n",
      "Last 500 train | avg. loss: 0.1929, acc: 0.9438\n",
      "Test           | avg. loss: 0.1908, acc: 0.9448\n",
      "=============================\n",
      "=============================\n",
      "Last 500 train | avg. loss: 0.1873, acc: 0.9457\n",
      "Test           | avg. loss: 0.1867, acc: 0.9471\n",
      "=============================\n",
      "=============================\n",
      "Last 500 train | avg. loss: 0.1827, acc: 0.9476\n",
      "Test           | avg. loss: 0.1832, acc: 0.9479\n",
      "=============================\n",
      "=============================\n",
      "Last 500 train | avg. loss: 0.1789, acc: 0.9487\n",
      "Test           | avg. loss: 0.1809, acc: 0.9489\n",
      "=============================\n",
      "=============================\n",
      "Last 500 train | avg. loss: 0.1759, acc: 0.9496\n",
      "Test           | avg. loss: 0.1791, acc: 0.9497\n",
      "=============================\n",
      "=============================\n",
      "Last 500 train | avg. loss: 0.1734, acc: 0.9503\n",
      "Test           | avg. loss: 0.1774, acc: 0.9500\n",
      "=============================\n",
      "=============================\n",
      "Last 500 train | avg. loss: 0.1712, acc: 0.9510\n",
      "Test           | avg. loss: 0.1758, acc: 0.9509\n",
      "=============================\n",
      "=============================\n",
      "Last 500 train | avg. loss: 0.1691, acc: 0.9515\n",
      "Test           | avg. loss: 0.1740, acc: 0.9511\n",
      "=============================\n",
      "=============================\n",
      "Last 500 train | avg. loss: 0.1674, acc: 0.9522\n",
      "Test           | avg. loss: 0.1728, acc: 0.9514\n",
      "=============================\n",
      "=============================\n",
      "Last 500 train | avg. loss: 0.1658, acc: 0.9527\n",
      "Test           | avg. loss: 0.1718, acc: 0.9516\n",
      "=============================\n",
      "=============================\n",
      "Last 500 train | avg. loss: 0.1643, acc: 0.9534\n",
      "Test           | avg. loss: 0.1707, acc: 0.9522\n",
      "=============================\n",
      "=============================\n",
      "Last 500 train | avg. loss: 0.1628, acc: 0.9538\n",
      "Test           | avg. loss: 0.1699, acc: 0.9521\n",
      "=============================\n",
      "=============================\n",
      "Last 500 train | avg. loss: 0.1616, acc: 0.9543\n",
      "Test           | avg. loss: 0.1694, acc: 0.9525\n",
      "=============================\n",
      "=============================\n",
      "Last 500 train | avg. loss: 0.1605, acc: 0.9547\n",
      "Test           | avg. loss: 0.1688, acc: 0.9526\n",
      "=============================\n",
      "=============================\n",
      "Last 500 train | avg. loss: 0.1594, acc: 0.9550\n",
      "Test           | avg. loss: 0.1681, acc: 0.9532\n",
      "=============================\n",
      "=============================\n",
      "Last 500 train | avg. loss: 0.1583, acc: 0.9554\n",
      "Test           | avg. loss: 0.1676, acc: 0.9530\n",
      "=============================\n",
      "=============================\n",
      "Last 500 train | avg. loss: 0.1574, acc: 0.9557\n",
      "Test           | avg. loss: 0.1667, acc: 0.9530\n",
      "=============================\n",
      "=============================\n",
      "Last 500 train | avg. loss: 0.1565, acc: 0.9561\n",
      "Test           | avg. loss: 0.1662, acc: 0.9529\n",
      "=============================\n",
      "=============================\n",
      "Last 500 train | avg. loss: 0.1557, acc: 0.9562\n",
      "Test           | avg. loss: 0.1656, acc: 0.9524\n",
      "=============================\n",
      "=============================\n",
      "Last 500 train | avg. loss: 0.1549, acc: 0.9562\n",
      "Test           | avg. loss: 0.1651, acc: 0.9521\n",
      "=============================\n",
      "=============================\n",
      "Last 500 train | avg. loss: 0.1541, acc: 0.9563\n",
      "Test           | avg. loss: 0.1642, acc: 0.9525\n",
      "=============================\n",
      "=============================\n",
      "Last 500 train | avg. loss: 0.1533, acc: 0.9563\n",
      "Test           | avg. loss: 0.1640, acc: 0.9525\n",
      "=============================\n",
      "=============================\n",
      "Last 500 train | avg. loss: 0.1525, acc: 0.9566\n",
      "Test           | avg. loss: 0.1634, acc: 0.9520\n",
      "=============================\n",
      "=============================\n",
      "Last 500 train | avg. loss: 0.1518, acc: 0.9568\n",
      "Test           | avg. loss: 0.1633, acc: 0.9519\n",
      "=============================\n",
      "=============================\n",
      "Last 500 train | avg. loss: 0.1512, acc: 0.9571\n",
      "Test           | avg. loss: 0.1625, acc: 0.9524\n",
      "=============================\n",
      "=============================\n",
      "Last 500 train | avg. loss: 0.1506, acc: 0.9570\n",
      "Test           | avg. loss: 0.1623, acc: 0.9525\n",
      "=============================\n",
      "=============================\n",
      "Last 500 train | avg. loss: 0.1500, acc: 0.9573\n",
      "Test           | avg. loss: 0.1622, acc: 0.9521\n",
      "=============================\n",
      "=============================\n",
      "Last 500 train | avg. loss: 0.1493, acc: 0.9574\n",
      "Test           | avg. loss: 0.1616, acc: 0.9521\n",
      "=============================\n",
      "=============================\n",
      "Last 500 train | avg. loss: 0.1489, acc: 0.9574\n",
      "Test           | avg. loss: 0.1614, acc: 0.9520\n",
      "=============================\n",
      "=============================\n",
      "Last 500 train | avg. loss: 0.1484, acc: 0.9578\n",
      "Test           | avg. loss: 0.1611, acc: 0.9526\n",
      "=============================\n",
      "=============================\n",
      "Last 500 train | avg. loss: 0.1480, acc: 0.9579\n",
      "Test           | avg. loss: 0.1611, acc: 0.9526\n",
      "=============================\n",
      "=============================\n",
      "Last 500 train | avg. loss: 0.1476, acc: 0.9580\n",
      "Test           | avg. loss: 0.1607, acc: 0.9526\n",
      "=============================\n",
      "=============================\n",
      "Last 500 train | avg. loss: 0.1471, acc: 0.9581\n",
      "Test           | avg. loss: 0.1605, acc: 0.9530\n",
      "=============================\n",
      "=============================\n",
      "Last 500 train | avg. loss: 0.1468, acc: 0.9583\n",
      "Test           | avg. loss: 0.1603, acc: 0.9532\n",
      "=============================\n",
      "=============================\n",
      "Last 500 train | avg. loss: 0.1464, acc: 0.9583\n",
      "Test           | avg. loss: 0.1602, acc: 0.9525\n",
      "=============================\n",
      "=============================\n",
      "Last 500 train | avg. loss: 0.1461, acc: 0.9584\n",
      "Test           | avg. loss: 0.1599, acc: 0.9533\n",
      "=============================\n",
      "=============================\n",
      "Last 500 train | avg. loss: 0.1457, acc: 0.9585\n",
      "Test           | avg. loss: 0.1598, acc: 0.9530\n",
      "=============================\n",
      "=============================\n",
      "Last 500 train | avg. loss: 0.1455, acc: 0.9587\n",
      "Test           | avg. loss: 0.1598, acc: 0.9532\n",
      "=============================\n",
      "=============================\n",
      "Last 500 train | avg. loss: 0.1451, acc: 0.9589\n",
      "Test           | avg. loss: 0.1595, acc: 0.9533\n",
      "=============================\n",
      "=============================\n",
      "Last 500 train | avg. loss: 0.1449, acc: 0.9589\n",
      "Test           | avg. loss: 0.1593, acc: 0.9534\n",
      "=============================\n",
      "=============================\n",
      "Last 500 train | avg. loss: 0.1447, acc: 0.9591\n",
      "Test           | avg. loss: 0.1592, acc: 0.9538\n",
      "=============================\n",
      "=============================\n",
      "Last 500 train | avg. loss: 0.1444, acc: 0.9593\n",
      "Test           | avg. loss: 0.1594, acc: 0.9541\n",
      "=============================\n"
     ]
    }
   ],
   "source": [
    "training_loss = []\n",
    "corrects = []\n",
    "for epoch in range(50):\n",
    "  for i, (imgs, labels) in enumerate(train_dset):\n",
    "    optimizer.zero_grad()\n",
    "\n",
    "    outputs = model(imgs)\n",
    "    loss = criterion(outputs, labels)\n",
    "\n",
    "    training_loss += [loss.data]\n",
    "    preds = outputs.data.argmax(axis=1)\n",
    "    labels = labels.data.argmax(axis=1)\n",
    "    corrects += [(preds == labels).sum() / labels.size]\n",
    "\n",
    "    loss.backward()\n",
    "\n",
    "    optimizer.step()\n",
    "\n",
    "    if ((i + 1) % 500 == 0):\n",
    "      test_loss, test_acc = testit(test_dset, model, criterion)\n",
    "      print(\"=============================\")\n",
    "      print(\"Last 500 train | avg. loss: %.4f, acc: %.4f\" \\\n",
    "            % (np.mean(training_loss[-500:]), np.mean(corrects[-500:])))\n",
    "      print(\"Test           | avg. loss: %.4f, acc: %.4f\" % (test_loss, test_acc))\n",
    "      print(\"=============================\")"
   ]
  },
  {
   "cell_type": "code",
   "execution_count": 7,
   "metadata": {},
   "outputs": [
    {
     "data": {
      "text/plain": [
       "[<matplotlib.lines.Line2D at 0x7fe33f9eec50>]"
      ]
     },
     "execution_count": 7,
     "metadata": {},
     "output_type": "execute_result"
    },
    {
     "data": {
      "image/png": "[encoded data removed]",
      "text/plain": [
       "<Figure size 432x288 with 1 Axes>"
      ]
     },
     "metadata": {
      "needs_background": "light"
     },
     "output_type": "display_data"
    }
   ],
   "source": [
    "plt.plot(training_loss)"
   ]
  },
  {
   "cell_type": "code",
   "execution_count": 8,
   "metadata": {},
   "outputs": [],
   "source": [
    "batch = 3\n",
    "\n",
    "true_imgs, true_labels = test_dset[batch]\n",
    "labels = true_labels.data.argmax(axis=1)\n",
    "preds = model(true_imgs)\n",
    "preds_labels = preds.data.argmax(axis=1)"
   ]
  },
  {
   "cell_type": "code",
   "execution_count": 9,
   "metadata": {},
   "outputs": [
    {
     "data": {
      "text/plain": [
       "array([[0., 0., 0., 1., 0., 0., 0., 0., 0., 0.],\n",
       "       [0., 1., 0., 0., 0., 0., 0., 0., 0., 0.],\n",
       "       [0., 0., 0., 1., 0., 0., 0., 0., 0., 0.],\n",
       "       [0., 0., 0., 0., 1., 0., 0., 0., 0., 0.],\n",
       "       [0., 0., 0., 0., 0., 0., 0., 1., 0., 0.],\n",
       "       [0., 0., 1., 0., 0., 0., 0., 0., 0., 0.],\n",
       "       [0., 0., 0., 0., 0., 0., 0., 1., 0., 0.],\n",
       "       [0., 1., 0., 0., 0., 0., 0., 0., 0., 0.],\n",
       "       [0., 0., 1., 0., 0., 0., 0., 0., 0., 0.],\n",
       "       [0., 1., 0., 0., 0., 0., 0., 0., 0., 0.]], dtype=float32)"
      ]
     },
     "execution_count": 9,
     "metadata": {},
     "output_type": "execute_result"
    }
   ],
   "source": [
    "true_labels.data"
   ]
  },
  {
   "cell_type": "code",
   "execution_count": 10,
   "metadata": {},
   "outputs": [
    {
     "data": {
      "text/plain": [
       "array([3, 1, 3, 4, 7, 2, 7, 1, 2, 1])"
      ]
     },
     "execution_count": 10,
     "metadata": {},
     "output_type": "execute_result"
    }
   ],
   "source": [
    "labels"
   ]
  },
  {
   "cell_type": "code",
   "execution_count": 11,
   "metadata": {},
   "outputs": [
    {
     "data": {
      "text/plain": [
       "array([[-1.22963686e+01, -1.06853361e+01, -1.34235296e+01,\n",
       "        -1.07069910e-02, -1.47412663e+01, -5.20916557e+00,\n",
       "        -1.71721859e+01, -8.15081596e+00, -9.63627243e+00,\n",
       "        -5.33903408e+00],\n",
       "       [-8.69376755e+00, -2.66492367e-02, -6.38229275e+00,\n",
       "        -4.45149422e+00, -6.98922539e+00, -7.70796490e+00,\n",
       "        -7.50974941e+00, -5.75273228e+00, -6.87925053e+00,\n",
       "        -5.01231575e+00],\n",
       "       [-1.30386600e+01, -1.02942181e+01, -1.34047298e+01,\n",
       "        -5.02651706e-02, -1.08119230e+01, -3.04908919e+00,\n",
       "        -1.52616520e+01, -1.51830015e+01, -6.73878145e+00,\n",
       "        -7.87913609e+00],\n",
       "       [-5.00833988e-01, -1.39844332e+01, -5.48223019e+00,\n",
       "        -1.11533155e+01, -3.39144802e+00, -4.77027130e+00,\n",
       "        -1.06724644e+00, -6.54211521e+00, -7.76093292e+00,\n",
       "        -6.29808235e+00],\n",
       "       [-1.16099348e+01, -1.36051455e+01, -6.99049997e+00,\n",
       "        -5.92318153e+00, -1.27278643e+01, -1.27561579e+01,\n",
       "        -1.59285803e+01, -3.96656059e-03, -9.06468582e+00,\n",
       "        -8.37971687e+00],\n",
       "       [-9.29607868e+00, -5.06848764e+00, -3.16200256e-02,\n",
       "        -4.97226572e+00, -7.77414036e+00, -4.06226730e+00,\n",
       "        -1.00938931e+01, -1.52716093e+01, -8.92154408e+00,\n",
       "        -1.16375961e+01],\n",
       "       [-9.12740040e+00, -1.05275021e+01, -5.44859266e+00,\n",
       "        -6.21891403e+00, -1.32749805e+01, -1.06833448e+01,\n",
       "        -1.31979618e+01, -6.63059950e-03, -9.58342075e+00,\n",
       "        -9.38340473e+00],\n",
       "       [-9.96305847e+00, -2.71147490e-03, -8.15186882e+00,\n",
       "        -7.03244543e+00, -1.07675285e+01, -1.07710104e+01,\n",
       "        -8.34568024e+00, -8.33726978e+00, -7.18567657e+00,\n",
       "        -8.45249176e+00],\n",
       "       [-6.88262463e+00, -4.48336792e+00, -6.48728132e-01,\n",
       "        -8.85621786e-01, -1.02245169e+01, -3.04320216e+00,\n",
       "        -6.58922958e+00, -1.00187311e+01, -6.10035515e+00,\n",
       "        -6.78411007e+00],\n",
       "       [-1.06851978e+01, -8.19921494e-03, -9.83038521e+00,\n",
       "        -6.55902767e+00, -1.15335217e+01, -1.04115696e+01,\n",
       "        -8.35700035e+00, -9.08147049e+00, -5.73826122e+00,\n",
       "        -5.78836536e+00]], dtype=float32)"
      ]
     },
     "execution_count": 11,
     "metadata": {},
     "output_type": "execute_result"
    }
   ],
   "source": [
    "preds.data"
   ]
  },
  {
   "cell_type": "code",
   "execution_count": 12,
   "metadata": {},
   "outputs": [
    {
     "data": {
      "text/plain": [
       "array([3, 1, 3, 0, 7, 2, 7, 1, 2, 1])"
      ]
     },
     "execution_count": 12,
     "metadata": {},
     "output_type": "execute_result"
    }
   ],
   "source": [
    "preds_labels"
   ]
  },
  {
   "cell_type": "code",
   "execution_count": 13,
   "metadata": {},
   "outputs": [
    {
     "data": {
      "text/plain": [
       "array([3, 1, 3, 4, 7, 2, 7, 1, 2, 1])"
      ]
     },
     "execution_count": 13,
     "metadata": {},
     "output_type": "execute_result"
    }
   ],
   "source": [
    "labels"
   ]
  },
  {
   "cell_type": "code",
   "execution_count": 14,
   "metadata": {},
   "outputs": [
    {
     "data": {
      "text/plain": [
       "array([1, 1, 1, 0, 1, 1, 1, 1, 1, 1], dtype=uint8)"
      ]
     },
     "execution_count": 14,
     "metadata": {},
     "output_type": "execute_result"
    }
   ],
   "source": [
    "(preds_labels == labels).astype(np.uint8)"
   ]
  }
 ],
 "metadata": {
  "kernelspec": {
   "display_name": "Python 3",
   "language": "python",
   "name": "python3"
  },
  "language_info": {
   "codemirror_mode": {
    "name": "ipython",
    "version": 3
   },
   "file_extension": ".py",
   "mimetype": "text/x-python",
   "name": "python",
   "nbconvert_exporter": "python",
   "pygments_lexer": "ipython3",
   "version": "3.10.9"
  },
  "orig_nbformat": 4,
  "vscode": {
   "interpreter": {
    "hash": "97cc609b13305c559618ec78a438abc56230b9381f827f22d070313b9a1f3777"
   }
  }
 },
 "nbformat": 4,
 "nbformat_minor": 2
}
