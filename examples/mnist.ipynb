{
 "cells": [
  {
   "cell_type": "code",
   "execution_count": 1,
   "metadata": {},
   "outputs": [],
   "source": [
    "from gradflow import Tensor\n",
    "from gradflow.model import Model\n",
    "import gradflow.functions as F\n",
    "from gradflow.optim import *\n",
    "\n",
    "from datasets.mnist import MNISTDataset\n",
    "\n",
    "import numpy as np\n",
    "import matplotlib.pyplot as plt"
   ]
  },
  {
   "cell_type": "code",
   "execution_count": 2,
   "metadata": {},
   "outputs": [],
   "source": [
    "class Net(Model):\n",
    "  def __init__(self):\n",
    "    super().__init__()\n",
    "\n",
    "    self.dense0 = F.Linear(28*28, 16)\n",
    "    self.relu = F.ReLU()\n",
    "    self.dense1 =  F.Linear(16, 10)\n",
    "    self.logsoftmax = F.LogSoftmax(dim=-1)\n",
    "  \n",
    "  def forward(self, x) -> Tensor:\n",
    "    out = self.dense0(x)\n",
    "    out = self.relu(out)\n",
    "    out = self.dense1(out)\n",
    "    return self.logsoftmax(out)"
   ]
  },
  {
   "cell_type": "code",
   "execution_count": 3,
   "metadata": {},
   "outputs": [
    {
     "name": "stdout",
     "output_type": "stream",
     "text": [
      "train-images-idx3-ubyte.gz already exists in ../data. Skipping...\n",
      "t10k-images-idx3-ubyte.gz already exists in ../data. Skipping...\n",
      "train-labels-idx1-ubyte.gz already exists in ../data. Skipping...\n",
      "t10k-labels-idx1-ubyte.gz already exists in ../data. Skipping...\n",
      "train-images-idx3-ubyte.gz already exists in ../data. Skipping...\n",
      "t10k-images-idx3-ubyte.gz already exists in ../data. Skipping...\n",
      "train-labels-idx1-ubyte.gz already exists in ../data. Skipping...\n",
      "t10k-labels-idx1-ubyte.gz already exists in ../data. Skipping...\n"
     ]
    }
   ],
   "source": [
    "train_dset = MNISTDataset(\"../data/\", batch_size=32*3, shuffle=True)\n",
    "test_dset = MNISTDataset(\"../data/\", batch_size=10, train=False)"
   ]
  },
  {
   "cell_type": "code",
   "execution_count": 4,
   "metadata": {},
   "outputs": [],
   "source": [
    "def dset_loss_acc(dset, model, criterion):\n",
    "  loss = 0\n",
    "  corrects = 0\n",
    "  for imgs, labels in dset:\n",
    "    outputs = model(imgs)\n",
    "    loss += criterion(outputs, labels).data\n",
    "\n",
    "    preds = outputs.data.argmax(axis=1)\n",
    "    labels = labels.data.argmax(axis=1)\n",
    "    corrects += ((preds == labels).sum() / labels.size)\n",
    "\n",
    "  return loss / len(dset), corrects / len(dset)\n",
    "    "
   ]
  },
  {
   "cell_type": "code",
   "execution_count": 5,
   "metadata": {},
   "outputs": [],
   "source": [
    "model = Net()\n",
    "criterion = F.NLLLoss(indexed=False)\n",
    "optimizer = Adam(model.parameters(), 0.01, 0)"
   ]
  },
  {
   "cell_type": "code",
   "execution_count": 6,
   "metadata": {},
   "outputs": [
    {
     "name": "stdout",
     "output_type": "stream",
     "text": [
      "=============================\n",
      "Last 100 train | avg. loss: 1.9655, acc: 0.3981\n",
      "Test           | avg. loss: 1.0812, acc: 0.6504\n",
      "=============================\n",
      "=============================\n",
      "Last 100 train | avg. loss: 0.7840, acc: 0.7535\n",
      "Test           | avg. loss: 0.5602, acc: 0.8228\n",
      "=============================\n",
      "=============================\n",
      "Last 100 train | avg. loss: 0.5283, acc: 0.8342\n",
      "Test           | avg. loss: 0.4236, acc: 0.8715\n",
      "=============================\n",
      "=============================\n",
      "Last 100 train | avg. loss: 0.4072, acc: 0.8771\n",
      "Test           | avg. loss: 0.3536, acc: 0.9000\n",
      "=============================\n",
      "=============================\n",
      "Last 100 train | avg. loss: 0.3579, acc: 0.8961\n",
      "Test           | avg. loss: 0.3206, acc: 0.9014\n",
      "=============================\n",
      "=============================\n",
      "Last 100 train | avg. loss: 0.3265, acc: 0.9055\n",
      "Test           | avg. loss: 0.2891, acc: 0.9132\n",
      "=============================\n"
     ]
    }
   ],
   "source": [
    "\n",
    "\n",
    "training_loss = []\n",
    "corrects = []\n",
    "for epoch in range(1):\n",
    "  for i, (imgs, labels) in enumerate(train_dset):\n",
    "    optimizer.zero_grad()\n",
    "\n",
    "    outputs = model(imgs)\n",
    "    loss = criterion(outputs, labels)\n",
    "\n",
    "    training_loss += [loss.data]\n",
    "    preds = outputs.data.argmax(axis=1)\n",
    "    labels = labels.data.argmax(axis=1)\n",
    "    corrects += [(preds == labels).sum() / labels.size]\n",
    "\n",
    "    loss.backward()\n",
    "\n",
    "    optimizer.step()\n",
    "\n",
    "    if ((i + 1) % 100 == 0):\n",
    "      test_loss, test_acc = dset_loss_acc(test_dset, model, criterion)\n",
    "      print(\"=============================\")\n",
    "      print(\"Last 100 train | avg. loss: %.4f, acc: %.4f\" \\\n",
    "            % (np.mean(training_loss[-100:]), np.mean(corrects[-100:])))\n",
    "      print(\"Test           | avg. loss: %.4f, acc: %.4f\" % (test_loss, test_acc))\n",
    "      print(\"=============================\")"
   ]
  },
  {
   "cell_type": "code",
   "execution_count": 7,
   "metadata": {},
   "outputs": [
    {
     "data": {
      "text/plain": [
       "[<matplotlib.lines.Line2D at 0x7f24bdeb95e0>]"
      ]
     },
     "execution_count": 7,
     "metadata": {},
     "output_type": "execute_result"
    },
    {
     "data": {
      "image/png": "[encoded data removed]",
      "text/plain": [
       "<Figure size 432x288 with 1 Axes>"
      ]
     },
     "metadata": {
      "needs_background": "light"
     },
     "output_type": "display_data"
    }
   ],
   "source": [
    "plt.plot(training_loss)"
   ]
  },
  {
   "cell_type": "code",
   "execution_count": 8,
   "metadata": {},
   "outputs": [],
   "source": [
    "batch = 3\n",
    "\n",
    "true_imgs, true_labels = test_dset[batch]\n",
    "labels = true_labels.data.argmax(axis=1)\n",
    "preds = model(true_imgs)\n",
    "preds_labels = preds.data.argmax(axis=1)"
   ]
  },
  {
   "cell_type": "code",
   "execution_count": 9,
   "metadata": {},
   "outputs": [
    {
     "data": {
      "text/plain": [
       "array([[0., 0., 0., 1., 0., 0., 0., 0., 0., 0.],\n",
       "       [0., 1., 0., 0., 0., 0., 0., 0., 0., 0.],\n",
       "       [0., 0., 0., 1., 0., 0., 0., 0., 0., 0.],\n",
       "       [0., 0., 0., 0., 1., 0., 0., 0., 0., 0.],\n",
       "       [0., 0., 0., 0., 0., 0., 0., 1., 0., 0.],\n",
       "       [0., 0., 1., 0., 0., 0., 0., 0., 0., 0.],\n",
       "       [0., 0., 0., 0., 0., 0., 0., 1., 0., 0.],\n",
       "       [0., 1., 0., 0., 0., 0., 0., 0., 0., 0.],\n",
       "       [0., 0., 1., 0., 0., 0., 0., 0., 0., 0.],\n",
       "       [0., 1., 0., 0., 0., 0., 0., 0., 0., 0.]], dtype=float32)"
      ]
     },
     "execution_count": 9,
     "metadata": {},
     "output_type": "execute_result"
    }
   ],
   "source": [
    "true_labels.data"
   ]
  },
  {
   "cell_type": "code",
   "execution_count": 10,
   "metadata": {},
   "outputs": [
    {
     "data": {
      "text/plain": [
       "array([3, 1, 3, 4, 7, 2, 7, 1, 2, 1])"
      ]
     },
     "execution_count": 10,
     "metadata": {},
     "output_type": "execute_result"
    }
   ],
   "source": [
    "labels"
   ]
  },
  {
   "cell_type": "code",
   "execution_count": 11,
   "metadata": {},
   "outputs": [
    {
     "data": {
      "text/plain": [
       "array([[-9.75256920e+00, -1.04028683e+01, -1.40265808e+01,\n",
       "        -6.43919110e-02, -1.64632950e+01, -3.00430846e+00,\n",
       "        -1.96865120e+01, -4.50134039e+00, -1.00950680e+01,\n",
       "        -6.46003580e+00],\n",
       "       [-9.43090057e+00, -6.57854080e-02, -5.74374723e+00,\n",
       "        -4.36960268e+00, -5.59252024e+00, -3.52314615e+00,\n",
       "        -6.95371771e+00, -6.65438700e+00, -4.48381758e+00,\n",
       "        -6.94518328e+00],\n",
       "       [-1.39999275e+01, -1.19044952e+01, -1.17355385e+01,\n",
       "        -1.28350616e-01, -1.50074120e+01, -2.12409401e+00,\n",
       "        -2.02080994e+01, -1.55066891e+01, -7.09456491e+00,\n",
       "        -9.59571934e+00],\n",
       "       [-4.15559769e-01, -9.48150826e+00, -3.15198135e+00,\n",
       "        -1.12566872e+01, -4.94105148e+00, -2.67173672e+00,\n",
       "        -1.57502460e+00, -9.50388718e+00, -4.28462029e+00,\n",
       "        -1.01786842e+01],\n",
       "       [-1.52541695e+01, -1.70580940e+01, -7.83509350e+00,\n",
       "        -6.29241562e+00, -1.24953709e+01, -1.28111877e+01,\n",
       "        -2.42734127e+01, -2.99060345e-03, -9.80844593e+00,\n",
       "        -7.29553986e+00],\n",
       "       [-1.09505749e+01, -1.34100208e+01, -3.76701355e-03,\n",
       "        -6.19330740e+00, -1.76545258e+01, -1.01403255e+01,\n",
       "        -1.53708172e+01, -1.55833759e+01, -6.40205717e+00,\n",
       "        -2.38462067e+01],\n",
       "       [-1.05597992e+01, -1.70442677e+01, -9.95266151e+00,\n",
       "        -4.88904572e+00, -1.35764809e+01, -9.70091534e+00,\n",
       "        -2.17191601e+01, -8.96299351e-03, -1.12377644e+01,\n",
       "        -6.68849421e+00],\n",
       "       [-1.16387224e+01, -2.96957493e-02, -7.05892754e+00,\n",
       "        -7.93054485e+00, -6.39937115e+00, -5.41698933e+00,\n",
       "        -7.50345993e+00, -9.03919792e+00, -3.85803628e+00,\n",
       "        -8.81341839e+00],\n",
       "       [-5.63712835e+00, -6.98011446e+00, -2.06815243e-01,\n",
       "        -1.95531988e+00, -1.18066387e+01, -4.61213732e+00,\n",
       "        -9.38487434e+00, -9.22694588e+00, -3.48359537e+00,\n",
       "        -1.47191334e+01],\n",
       "       [-1.29942398e+01, -1.25980377e-02, -8.18627357e+00,\n",
       "        -7.25883865e+00, -8.51251602e+00, -8.33772087e+00,\n",
       "        -1.11778088e+01, -1.21003819e+01, -4.50318861e+00,\n",
       "        -1.39994917e+01]], dtype=float32)"
      ]
     },
     "execution_count": 11,
     "metadata": {},
     "output_type": "execute_result"
    }
   ],
   "source": [
    "preds.data"
   ]
  },
  {
   "cell_type": "code",
   "execution_count": 12,
   "metadata": {},
   "outputs": [
    {
     "data": {
      "text/plain": [
       "array([3, 1, 3, 0, 7, 2, 7, 1, 2, 1])"
      ]
     },
     "execution_count": 12,
     "metadata": {},
     "output_type": "execute_result"
    }
   ],
   "source": [
    "preds_labels"
   ]
  },
  {
   "cell_type": "code",
   "execution_count": 13,
   "metadata": {},
   "outputs": [
    {
     "data": {
      "text/plain": [
       "array([3, 1, 3, 4, 7, 2, 7, 1, 2, 1])"
      ]
     },
     "execution_count": 13,
     "metadata": {},
     "output_type": "execute_result"
    }
   ],
   "source": [
    "labels"
   ]
  },
  {
   "cell_type": "code",
   "execution_count": 14,
   "metadata": {},
   "outputs": [
    {
     "data": {
      "text/plain": [
       "array([1, 1, 1, 0, 1, 1, 1, 1, 1, 1], dtype=uint8)"
      ]
     },
     "execution_count": 14,
     "metadata": {},
     "output_type": "execute_result"
    }
   ],
   "source": [
    "(preds_labels == labels).astype(np.uint8)"
   ]
  }
 ],
 "metadata": {
  "kernelspec": {
   "display_name": "pytorch",
   "language": "python",
   "name": "python3"
  },
  "language_info": {
   "codemirror_mode": {
    "name": "ipython",
    "version": 3
   },
   "file_extension": ".py",
   "mimetype": "text/x-python",
   "name": "python",
   "nbconvert_exporter": "python",
   "pygments_lexer": "ipython3",
   "version": "3.9.12"
  },
  "orig_nbformat": 4,
  "vscode": {
   "interpreter": {
    "hash": "cf02708cd20c34b8c5fbdb84cf5bc390e544dcf1e33c5533341fd4b6086ccda4"
   }
  }
 },
 "nbformat": 4,
 "nbformat_minor": 2
}
