{
 "cells": [
  {
   "cell_type": "code",
   "execution_count": 1,
   "metadata": {},
   "outputs": [],
   "source": [
    "from gradflow import Tensor\n",
    "from gradflow.model import Model\n",
    "import gradflow.functions as F\n",
    "from gradflow.optim import *\n",
    "\n",
    "from datasets.mnist import MNISTDataset\n",
    "\n",
    "import numpy as np\n",
    "import matplotlib.pyplot as plt"
   ]
  },
  {
   "cell_type": "code",
   "execution_count": 2,
   "metadata": {},
   "outputs": [],
   "source": [
    "class Net(Model):\n",
    "  def __init__(self):\n",
    "    super().__init__()\n",
    "\n",
    "    self.dense0 = F.Linear(28*28, 16)\n",
    "    self.relu = F.ReLU()\n",
    "    self.dense1 =  F.Linear(16, 10)\n",
    "    self.sigmoid = F.Sigmoid()\n",
    "  \n",
    "  def forward(self, x) -> Tensor:\n",
    "    out = self.dense0(x)\n",
    "    out = self.relu(out)\n",
    "    out = self.dense1(out)\n",
    "    return self.sigmoid(out)"
   ]
  },
  {
   "cell_type": "code",
   "execution_count": 3,
   "metadata": {},
   "outputs": [
    {
     "name": "stdout",
     "output_type": "stream",
     "text": [
      "train-images-idx3-ubyte.gz already exists in ../data. Skipping...\n",
      "t10k-images-idx3-ubyte.gz already exists in ../data. Skipping...\n",
      "train-labels-idx1-ubyte.gz already exists in ../data. Skipping...\n",
      "t10k-labels-idx1-ubyte.gz already exists in ../data. Skipping...\n",
      "train-images-idx3-ubyte.gz already exists in ../data. Skipping...\n",
      "t10k-images-idx3-ubyte.gz already exists in ../data. Skipping...\n",
      "train-labels-idx1-ubyte.gz already exists in ../data. Skipping...\n",
      "t10k-labels-idx1-ubyte.gz already exists in ../data. Skipping...\n"
     ]
    }
   ],
   "source": [
    "train_dset = MNISTDataset(\"../data/\", batch_size=32*3)\n",
    "test_dset = MNISTDataset(\"../data/\", batch_size=10, train=False)"
   ]
  },
  {
   "cell_type": "code",
   "execution_count": 4,
   "metadata": {},
   "outputs": [],
   "source": [
    "def testit(dset, model, criterion):\n",
    "  loss = 0\n",
    "  corrects = 0\n",
    "  for imgs, labels in dset:\n",
    "    outputs = model(imgs)\n",
    "    loss += criterion(outputs, labels).data\n",
    "\n",
    "    preds = outputs.data.argmax(axis=1)\n",
    "    labels = labels.data.argmax(axis=1)\n",
    "    corrects += ((preds == labels).sum() / labels.size)\n",
    "\n",
    "  return loss / len(dset), corrects / len(dset)\n",
    "    "
   ]
  },
  {
   "cell_type": "code",
   "execution_count": 5,
   "metadata": {},
   "outputs": [],
   "source": [
    "model = Net()\n",
    "criterion = F.BCELoss()\n",
    "optimizer = Adam(model.parameters(), 0.001, 0.001)\n",
    "# optimizer = RMSprop(model.parameters(), 0.001, 0.001, 0.99)\n",
    "# optimizer = SGD(model.parameters(), 0.001, 0.001, 0.9, False)\n",
    "# optimizer = Adagrad(model.parameters(), 0.01, 0.001, eps=1e-4)\n",
    "# optimizer = SGD(model.parameters(), 0.001, 0, 0.9, True)"
   ]
  },
  {
   "cell_type": "code",
   "execution_count": 6,
   "metadata": {},
   "outputs": [
    {
     "name": "stdout",
     "output_type": "stream",
     "text": [
      "=============================\n",
      "Last 500 train | avg. loss: 0.2592, acc: 0.6125\n",
      "Test           | avg. loss: 0.1167, acc: 0.8396\n",
      "=============================\n",
      "=============================\n",
      "Last 500 train | avg. loss: 0.0942, acc: 0.8746\n",
      "Test           | avg. loss: 0.0801, acc: 0.8975\n",
      "=============================\n",
      "=============================\n",
      "Last 500 train | avg. loss: 0.0791, acc: 0.8959\n",
      "Test           | avg. loss: 0.0721, acc: 0.9074\n",
      "=============================\n",
      "=============================\n",
      "Last 500 train | avg. loss: 0.0732, acc: 0.9049\n",
      "Test           | avg. loss: 0.0677, acc: 0.9138\n",
      "=============================\n",
      "=============================\n",
      "Last 500 train | avg. loss: 0.0695, acc: 0.9103\n",
      "Test           | avg. loss: 0.0648, acc: 0.9181\n",
      "=============================\n",
      "=============================\n",
      "Last 500 train | avg. loss: 0.0672, acc: 0.9138\n",
      "Test           | avg. loss: 0.0630, acc: 0.9195\n",
      "=============================\n",
      "=============================\n",
      "Last 500 train | avg. loss: 0.0658, acc: 0.9156\n",
      "Test           | avg. loss: 0.0620, acc: 0.9207\n",
      "=============================\n",
      "=============================\n",
      "Last 500 train | avg. loss: 0.0649, acc: 0.9168\n",
      "Test           | avg. loss: 0.0613, acc: 0.9222\n",
      "=============================\n",
      "=============================\n",
      "Last 500 train | avg. loss: 0.0641, acc: 0.9178\n",
      "Test           | avg. loss: 0.0606, acc: 0.9220\n",
      "=============================\n",
      "=============================\n",
      "Last 500 train | avg. loss: 0.0636, acc: 0.9186\n",
      "Test           | avg. loss: 0.0601, acc: 0.9231\n",
      "=============================\n",
      "=============================\n",
      "Last 500 train | avg. loss: 0.0631, acc: 0.9195\n",
      "Test           | avg. loss: 0.0597, acc: 0.9241\n",
      "=============================\n",
      "=============================\n",
      "Last 500 train | avg. loss: 0.0628, acc: 0.9200\n",
      "Test           | avg. loss: 0.0594, acc: 0.9247\n",
      "=============================\n",
      "=============================\n",
      "Last 500 train | avg. loss: 0.0626, acc: 0.9203\n",
      "Test           | avg. loss: 0.0592, acc: 0.9249\n",
      "=============================\n",
      "=============================\n",
      "Last 500 train | avg. loss: 0.0624, acc: 0.9205\n",
      "Test           | avg. loss: 0.0591, acc: 0.9247\n",
      "=============================\n",
      "=============================\n",
      "Last 500 train | avg. loss: 0.0623, acc: 0.9206\n",
      "Test           | avg. loss: 0.0589, acc: 0.9253\n",
      "=============================\n",
      "=============================\n",
      "Last 500 train | avg. loss: 0.0622, acc: 0.9205\n",
      "Test           | avg. loss: 0.0588, acc: 0.9256\n",
      "=============================\n",
      "=============================\n",
      "Last 500 train | avg. loss: 0.0622, acc: 0.9204\n",
      "Test           | avg. loss: 0.0587, acc: 0.9258\n",
      "=============================\n",
      "=============================\n",
      "Last 500 train | avg. loss: 0.0621, acc: 0.9205\n",
      "Test           | avg. loss: 0.0586, acc: 0.9255\n",
      "=============================\n",
      "=============================\n",
      "Last 500 train | avg. loss: 0.0620, acc: 0.9206\n",
      "Test           | avg. loss: 0.0586, acc: 0.9254\n",
      "=============================\n",
      "=============================\n",
      "Last 500 train | avg. loss: 0.0620, acc: 0.9205\n",
      "Test           | avg. loss: 0.0585, acc: 0.9254\n",
      "=============================\n",
      "=============================\n",
      "Last 500 train | avg. loss: 0.0619, acc: 0.9206\n",
      "Test           | avg. loss: 0.0584, acc: 0.9249\n",
      "=============================\n",
      "=============================\n",
      "Last 500 train | avg. loss: 0.0618, acc: 0.9206\n",
      "Test           | avg. loss: 0.0582, acc: 0.9253\n",
      "=============================\n",
      "=============================\n",
      "Last 500 train | avg. loss: 0.0615, acc: 0.9207\n",
      "Test           | avg. loss: 0.0579, acc: 0.9253\n",
      "=============================\n",
      "=============================\n",
      "Last 500 train | avg. loss: 0.0613, acc: 0.9209\n",
      "Test           | avg. loss: 0.0577, acc: 0.9251\n",
      "=============================\n",
      "=============================\n",
      "Last 500 train | avg. loss: 0.0611, acc: 0.9209\n",
      "Test           | avg. loss: 0.0576, acc: 0.9254\n",
      "=============================\n",
      "=============================\n",
      "Last 500 train | avg. loss: 0.0609, acc: 0.9214\n",
      "Test           | avg. loss: 0.0574, acc: 0.9259\n",
      "=============================\n",
      "=============================\n",
      "Last 500 train | avg. loss: 0.0608, acc: 0.9215\n",
      "Test           | avg. loss: 0.0573, acc: 0.9260\n",
      "=============================\n",
      "=============================\n",
      "Last 500 train | avg. loss: 0.0606, acc: 0.9215\n",
      "Test           | avg. loss: 0.0571, acc: 0.9262\n",
      "=============================\n",
      "=============================\n",
      "Last 500 train | avg. loss: 0.0605, acc: 0.9213\n",
      "Test           | avg. loss: 0.0570, acc: 0.9265\n",
      "=============================\n",
      "=============================\n",
      "Last 500 train | avg. loss: 0.0604, acc: 0.9214\n",
      "Test           | avg. loss: 0.0569, acc: 0.9268\n",
      "=============================\n",
      "=============================\n",
      "Last 500 train | avg. loss: 0.0603, acc: 0.9217\n",
      "Test           | avg. loss: 0.0568, acc: 0.9270\n",
      "=============================\n",
      "=============================\n",
      "Last 500 train | avg. loss: 0.0602, acc: 0.9219\n",
      "Test           | avg. loss: 0.0567, acc: 0.9268\n",
      "=============================\n",
      "=============================\n",
      "Last 500 train | avg. loss: 0.0601, acc: 0.9220\n",
      "Test           | avg. loss: 0.0566, acc: 0.9270\n",
      "=============================\n",
      "=============================\n",
      "Last 500 train | avg. loss: 0.0601, acc: 0.9222\n",
      "Test           | avg. loss: 0.0566, acc: 0.9270\n",
      "=============================\n",
      "=============================\n",
      "Last 500 train | avg. loss: 0.0600, acc: 0.9223\n",
      "Test           | avg. loss: 0.0565, acc: 0.9269\n",
      "=============================\n",
      "=============================\n",
      "Last 500 train | avg. loss: 0.0600, acc: 0.9220\n",
      "Test           | avg. loss: 0.0565, acc: 0.9270\n",
      "=============================\n",
      "=============================\n",
      "Last 500 train | avg. loss: 0.0599, acc: 0.9220\n",
      "Test           | avg. loss: 0.0565, acc: 0.9270\n",
      "=============================\n",
      "=============================\n",
      "Last 500 train | avg. loss: 0.0599, acc: 0.9222\n",
      "Test           | avg. loss: 0.0565, acc: 0.9271\n",
      "=============================\n",
      "=============================\n",
      "Last 500 train | avg. loss: 0.0598, acc: 0.9223\n",
      "Test           | avg. loss: 0.0564, acc: 0.9272\n",
      "=============================\n",
      "=============================\n",
      "Last 500 train | avg. loss: 0.0598, acc: 0.9224\n",
      "Test           | avg. loss: 0.0564, acc: 0.9271\n",
      "=============================\n",
      "=============================\n",
      "Last 500 train | avg. loss: 0.0598, acc: 0.9226\n",
      "Test           | avg. loss: 0.0564, acc: 0.9273\n",
      "=============================\n",
      "=============================\n",
      "Last 500 train | avg. loss: 0.0597, acc: 0.9224\n",
      "Test           | avg. loss: 0.0563, acc: 0.9279\n",
      "=============================\n",
      "=============================\n",
      "Last 500 train | avg. loss: 0.0597, acc: 0.9225\n",
      "Test           | avg. loss: 0.0563, acc: 0.9277\n",
      "=============================\n",
      "=============================\n",
      "Last 500 train | avg. loss: 0.0597, acc: 0.9225\n",
      "Test           | avg. loss: 0.0563, acc: 0.9281\n",
      "=============================\n",
      "=============================\n",
      "Last 500 train | avg. loss: 0.0596, acc: 0.9226\n",
      "Test           | avg. loss: 0.0562, acc: 0.9284\n",
      "=============================\n",
      "=============================\n",
      "Last 500 train | avg. loss: 0.0596, acc: 0.9226\n",
      "Test           | avg. loss: 0.0562, acc: 0.9287\n",
      "=============================\n",
      "=============================\n",
      "Last 500 train | avg. loss: 0.0595, acc: 0.9226\n",
      "Test           | avg. loss: 0.0562, acc: 0.9288\n",
      "=============================\n",
      "=============================\n",
      "Last 500 train | avg. loss: 0.0595, acc: 0.9226\n",
      "Test           | avg. loss: 0.0561, acc: 0.9288\n",
      "=============================\n",
      "=============================\n",
      "Last 500 train | avg. loss: 0.0595, acc: 0.9226\n",
      "Test           | avg. loss: 0.0561, acc: 0.9286\n",
      "=============================\n",
      "=============================\n",
      "Last 500 train | avg. loss: 0.0594, acc: 0.9228\n",
      "Test           | avg. loss: 0.0561, acc: 0.9286\n",
      "=============================\n"
     ]
    }
   ],
   "source": [
    "training_loss = []\n",
    "corrects = []\n",
    "for epoch in range(50):\n",
    "  for i, (imgs, labels) in enumerate(train_dset):\n",
    "    optimizer.zero_grad()\n",
    "\n",
    "    outputs = model(imgs)\n",
    "    loss = criterion(outputs, labels)\n",
    "\n",
    "    training_loss += [loss.data]\n",
    "    preds = outputs.data.argmax(axis=1)\n",
    "    labels = labels.data.argmax(axis=1)\n",
    "    corrects += [(preds == labels).sum() / labels.size]\n",
    "\n",
    "    loss.backward()\n",
    "\n",
    "    optimizer.step()\n",
    "\n",
    "    if ((i + 1) % 500 == 0):\n",
    "      test_loss, test_acc = testit(test_dset, model, criterion)\n",
    "      print(\"=============================\")\n",
    "      print(\"Last 500 train | avg. loss: %.4f, acc: %.4f\" \\\n",
    "            % (np.mean(training_loss[-500:]), np.mean(corrects[-500:])))\n",
    "      print(\"Test           | avg. loss: %.4f, acc: %.4f\" % (test_loss, test_acc))\n",
    "      print(\"=============================\")"
   ]
  },
  {
   "cell_type": "code",
   "execution_count": 7,
   "metadata": {},
   "outputs": [
    {
     "data": {
      "text/plain": [
       "[<matplotlib.lines.Line2D at 0x7f7ba7b0a6b0>]"
      ]
     },
     "execution_count": 7,
     "metadata": {},
     "output_type": "execute_result"
    },
    {
     "data": {
      "image/png": "[encoded data removed]",
      "text/plain": [
       "<Figure size 432x288 with 1 Axes>"
      ]
     },
     "metadata": {
      "needs_background": "light"
     },
     "output_type": "display_data"
    }
   ],
   "source": [
    "plt.plot(training_loss)"
   ]
  },
  {
   "cell_type": "code",
   "execution_count": 8,
   "metadata": {},
   "outputs": [],
   "source": [
    "batch = 3\n",
    "\n",
    "true_imgs, true_labels = test_dset[batch]\n",
    "labels = true_labels.data.argmax(axis=1)\n",
    "preds = model(true_imgs)\n",
    "preds_labels = preds.data.argmax(axis=1)"
   ]
  },
  {
   "cell_type": "code",
   "execution_count": 9,
   "metadata": {},
   "outputs": [
    {
     "data": {
      "text/plain": [
       "array([[0., 0., 0., 1., 0., 0., 0., 0., 0., 0.],\n",
       "       [0., 1., 0., 0., 0., 0., 0., 0., 0., 0.],\n",
       "       [0., 0., 0., 1., 0., 0., 0., 0., 0., 0.],\n",
       "       [0., 0., 0., 0., 1., 0., 0., 0., 0., 0.],\n",
       "       [0., 0., 0., 0., 0., 0., 0., 1., 0., 0.],\n",
       "       [0., 0., 1., 0., 0., 0., 0., 0., 0., 0.],\n",
       "       [0., 0., 0., 0., 0., 0., 0., 1., 0., 0.],\n",
       "       [0., 1., 0., 0., 0., 0., 0., 0., 0., 0.],\n",
       "       [0., 0., 1., 0., 0., 0., 0., 0., 0., 0.],\n",
       "       [0., 1., 0., 0., 0., 0., 0., 0., 0., 0.]], dtype=float32)"
      ]
     },
     "execution_count": 9,
     "metadata": {},
     "output_type": "execute_result"
    }
   ],
   "source": [
    "true_labels.data"
   ]
  },
  {
   "cell_type": "code",
   "execution_count": 10,
   "metadata": {},
   "outputs": [
    {
     "data": {
      "text/plain": [
       "array([3, 1, 3, 4, 7, 2, 7, 1, 2, 1])"
      ]
     },
     "execution_count": 10,
     "metadata": {},
     "output_type": "execute_result"
    }
   ],
   "source": [
    "labels"
   ]
  },
  {
   "cell_type": "code",
   "execution_count": 11,
   "metadata": {},
   "outputs": [
    {
     "data": {
      "text/plain": [
       "array([[1.98344560e-03, 1.56173809e-03, 1.37842333e-04, 9.03791249e-01,\n",
       "        5.08244593e-05, 6.20439798e-02, 2.93761317e-04, 2.14491617e-02,\n",
       "        3.50793917e-03, 5.22115007e-02],\n",
       "       [1.46295037e-03, 9.09633398e-01, 6.79431576e-03, 6.27538115e-02,\n",
       "        1.34005444e-02, 4.43685390e-02, 1.41178947e-02, 2.22509317e-02,\n",
       "        3.53669003e-02, 8.88001174e-02],\n",
       "       [9.05444787e-04, 2.85457610e-03, 1.12239039e-03, 9.35648203e-01,\n",
       "        1.11773156e-03, 2.11703673e-01, 2.31155544e-04, 5.87973220e-04,\n",
       "        9.56869591e-03, 1.16224389e-03],\n",
       "       [3.24854195e-01, 5.30540070e-04, 1.41058639e-01, 7.14496709e-05,\n",
       "        2.68374324e-01, 3.88298626e-03, 3.98942232e-01, 1.96348643e-04,\n",
       "        2.54114792e-02, 2.83844420e-03],\n",
       "       [1.92458581e-04, 4.52005974e-04, 5.68199530e-02, 2.06420366e-02,\n",
       "        7.61437928e-04, 2.45074189e-04, 1.00567686e-05, 9.26497340e-01,\n",
       "        8.02965090e-03, 5.29700611e-03],\n",
       "       [4.90545668e-03, 4.80249524e-03, 9.63730156e-01, 9.25634708e-03,\n",
       "        1.13207825e-04, 8.00867006e-03, 8.73982441e-04, 1.69007084e-03,\n",
       "        3.08815599e-03, 1.96964502e-05],\n",
       "       [1.68170698e-03, 2.51411548e-04, 1.19524179e-02, 2.65849624e-02,\n",
       "        3.09051189e-04, 2.02301219e-02, 8.05102987e-04, 8.99249852e-01,\n",
       "        1.79210142e-03, 9.92670842e-03],\n",
       "       [2.73317477e-04, 9.84740198e-01, 1.86319696e-03, 9.82202124e-03,\n",
       "        2.29214807e-03, 1.21486690e-02, 7.32037332e-03, 8.11951514e-03,\n",
       "        3.31659615e-02, 1.61358248e-02],\n",
       "       [4.84432699e-03, 1.00983204e-02, 2.42957488e-01, 1.81101605e-01,\n",
       "        2.55031009e-05, 3.98843661e-02, 1.61747579e-02, 8.30513332e-03,\n",
       "        4.21345094e-03, 5.90658921e-04],\n",
       "       [1.13392998e-04, 9.67469752e-01, 6.78351731e-04, 7.63160642e-03,\n",
       "        4.62654745e-04, 3.00315907e-03, 3.59461177e-03, 1.67625654e-03,\n",
       "        5.15393093e-02, 9.05492250e-03]], dtype=float32)"
      ]
     },
     "execution_count": 11,
     "metadata": {},
     "output_type": "execute_result"
    }
   ],
   "source": [
    "preds.data"
   ]
  },
  {
   "cell_type": "code",
   "execution_count": 12,
   "metadata": {},
   "outputs": [
    {
     "data": {
      "text/plain": [
       "array([3, 1, 3, 6, 7, 2, 7, 1, 2, 1])"
      ]
     },
     "execution_count": 12,
     "metadata": {},
     "output_type": "execute_result"
    }
   ],
   "source": [
    "preds_labels"
   ]
  },
  {
   "cell_type": "code",
   "execution_count": 13,
   "metadata": {},
   "outputs": [
    {
     "data": {
      "text/plain": [
       "array([3, 1, 3, 4, 7, 2, 7, 1, 2, 1])"
      ]
     },
     "execution_count": 13,
     "metadata": {},
     "output_type": "execute_result"
    }
   ],
   "source": [
    "labels"
   ]
  },
  {
   "cell_type": "code",
   "execution_count": 14,
   "metadata": {},
   "outputs": [
    {
     "data": {
      "text/plain": [
       "array([1, 1, 1, 0, 1, 1, 1, 1, 1, 1], dtype=uint8)"
      ]
     },
     "execution_count": 14,
     "metadata": {},
     "output_type": "execute_result"
    }
   ],
   "source": [
    "(preds_labels == labels).astype(np.uint8)"
   ]
  },
  {
   "cell_type": "code",
   "execution_count": null,
   "metadata": {},
   "outputs": [],
   "source": []
  }
 ],
 "metadata": {
  "kernelspec": {
   "display_name": "Python 3.10.8 64-bit",
   "language": "python",
   "name": "python3"
  },
  "language_info": {
   "codemirror_mode": {
    "name": "ipython",
    "version": 3
   },
   "file_extension": ".py",
   "mimetype": "text/x-python",
   "name": "python",
   "nbconvert_exporter": "python",
   "pygments_lexer": "ipython3",
   "version": "3.10.8"
  },
  "orig_nbformat": 4,
  "vscode": {
   "interpreter": {
    "hash": "97cc609b13305c559618ec78a438abc56230b9381f827f22d070313b9a1f3777"
   }
  }
 },
 "nbformat": 4,
 "nbformat_minor": 2
}
