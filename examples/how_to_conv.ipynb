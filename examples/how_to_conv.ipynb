{
 "cells": [
  {
   "cell_type": "code",
   "execution_count": 2,
   "metadata": {},
   "outputs": [],
   "source": [
    "import numpy as np"
   ]
  },
  {
   "cell_type": "code",
   "execution_count": 3,
   "metadata": {},
   "outputs": [],
   "source": [
    "# Sources:\n",
    "# + https://leonardoaraujosantos.gitbook.io/artificial-inteligence/machine_learning/deep_learning/convolution_layer/making_faster\n",
    "# + https://jott.live/markdown/as_strided"
   ]
  },
  {
   "cell_type": "code",
   "execution_count": 4,
   "metadata": {},
   "outputs": [],
   "source": [
    "import torch\n",
    "import torch.nn as nn\n",
    "def test_conv2d(func):\n",
    "  r = np.random.random((3, 3, 10, 10)).astype(np.float32)\n",
    "\n",
    "  strides = 3\n",
    "\n",
    "  conv = nn.Conv2d(3, 3, 3, strides, padding=0, dilation=1, bias=False)\n",
    "  kernel = conv.weight.detach().numpy()\n",
    "\n",
    "  tout = conv(torch.tensor(r)).detach().numpy()\n",
    "  out = func(r, kernel, strides)\n",
    "\n",
    "  print(np.allclose(tout, out))"
   ]
  },
  {
   "cell_type": "code",
   "execution_count": 5,
   "metadata": {},
   "outputs": [],
   "source": [
    "# Classic 2d convolution (actually it's cross-correlation 🤓)\n",
    "# https://ezyang.github.io/convolution-visualizer/index.html\n",
    "def naive_conv2d(x, kernel, strides):\n",
    "  if isinstance(strides, int):\n",
    "    strides = (strides, strides)\n",
    "  \n",
    "  bs, c, h, w = x.shape\n",
    "  out_features, in_features, kh, kw = kernel.shape\n",
    "  sh, sw = strides\n",
    "\n",
    "  if c != in_features:\n",
    "    raise ValueError(\"Input channels must match kernel channels\")\n",
    "\n",
    "  out_h = (h - kh) // sh + 1\n",
    "  out_w = (w - kw) // sw + 1\n",
    "\n",
    "  out = np.zeros((bs, out_features, out_h, out_w))\n",
    "\n",
    "  for b in range(bs):\n",
    "    for of in range(out_features):\n",
    "      for i in range(out_h):\n",
    "        for j in range(out_w):\n",
    "          for f in range(in_features):\n",
    "            for k in range(kh):\n",
    "              for l in range(kw):\n",
    "                out[b, of, i, j] += x[b, f, i*sh + k, j*sw + l] * kernel[of, f, k, l]\n",
    "\n",
    "  return out"
   ]
  },
  {
   "cell_type": "code",
   "execution_count": 6,
   "metadata": {},
   "outputs": [
    {
     "name": "stdout",
     "output_type": "stream",
     "text": [
      "True\n"
     ]
    }
   ],
   "source": [
    "test_conv2d(naive_conv2d)"
   ]
  },
  {
   "cell_type": "code",
   "execution_count": 7,
   "metadata": {},
   "outputs": [],
   "source": [
    "# To speed up the convolution, we can use the im2col trick and matmul\n",
    "def naive_im2col(x, sh, sw, kh, kw):\n",
    "  bs, c, h, w = x.shape\n",
    "\n",
    "  conv_h = (h - kh) // sh + 1\n",
    "  conv_w = (w - kw) // sw + 1\n",
    "\n",
    "  # im2col matrix shape\n",
    "  out_h = (kh*kw*c)\n",
    "  out_w = conv_h * conv_w\n",
    "\n",
    "  out = np.zeros((bs, out_h, out_w))\n",
    "\n",
    "  for b in range(bs):\n",
    "    for ch in range(c):\n",
    "      for i in range(conv_h):\n",
    "        for j in range(conv_w):\n",
    "          for k in range(kh):\n",
    "            for l in range(kw):\n",
    "              out[b, ch*kh*kw + k*kw + l, i*conv_w + j] = x[b, ch, i*sh + k, j*sw + l]\n",
    "\n",
    "  return out\n",
    "\n",
    "def naive_im2col_conv2d(x, kernel, strides):\n",
    "  if isinstance(strides, int):\n",
    "    strides = (strides, strides)\n",
    "  \n",
    "  bs, c, h, w = x.shape\n",
    "  out_features, in_features, kh, kw = kernel.shape\n",
    "  sh, sw = strides\n",
    "\n",
    "  if c != in_features:\n",
    "    raise ValueError(\"Input channels must match kernel channels\")\n",
    "\n",
    "  out_h = (h - kh) // sh + 1\n",
    "  out_w = (w - kw) // sw + 1\n",
    "\n",
    "  x_col = naive_im2col(x, sh, sw, kh, kw)\n",
    "  kernel_col = kernel.reshape(out_features, -1)\n",
    "\n",
    "  return np.matmul(kernel_col, x_col).reshape(bs, out_features, out_h, out_w)\n"
   ]
  },
  {
   "cell_type": "code",
   "execution_count": 8,
   "metadata": {},
   "outputs": [
    {
     "name": "stdout",
     "output_type": "stream",
     "text": [
      "[[[[ 0  1  2  3]\n",
      "   [ 4  5  6  7]\n",
      "   [ 8  9 10 11]\n",
      "   [12 13 14 15]]\n",
      "\n",
      "  [[16 17 18 19]\n",
      "   [20 21 22 23]\n",
      "   [24 25 26 27]\n",
      "   [28 29 30 31]]\n",
      "\n",
      "  [[32 33 34 35]\n",
      "   [36 37 38 39]\n",
      "   [40 41 42 43]\n",
      "   [44 45 46 47]]]]\n"
     ]
    },
    {
     "data": {
      "text/plain": [
       "array([[[ 1.,  2.,  3.,  5.,  6.,  7.,  9., 10., 11.],\n",
       "        [ 2.,  3.,  4.,  6.,  7.,  8., 10., 11., 12.],\n",
       "        [ 5.,  6.,  7.,  9., 10., 11., 13., 14., 15.],\n",
       "        [ 6.,  7.,  8., 10., 11., 12., 14., 15., 16.],\n",
       "        [17., 18., 19., 21., 22., 23., 25., 26., 27.],\n",
       "        [18., 19., 20., 22., 23., 24., 26., 27., 28.],\n",
       "        [21., 22., 23., 25., 26., 27., 29., 30., 31.],\n",
       "        [22., 23., 24., 26., 27., 28., 30., 31., 32.],\n",
       "        [33., 34., 35., 37., 38., 39., 41., 42., 43.],\n",
       "        [34., 35., 36., 38., 39., 40., 42., 43., 44.],\n",
       "        [37., 38., 39., 41., 42., 43., 45., 46., 47.],\n",
       "        [38., 39., 40., 42., 43., 44., 46., 47., 48.]]])"
      ]
     },
     "execution_count": 8,
     "metadata": {},
     "output_type": "execute_result"
    }
   ],
   "source": [
    "# Example from https://leonardoaraujosantos.gitbook.io/artificial-inteligence/machine_learning/deep_learning/convolution_layer/making_faster\n",
    "r = np.arange(3*4*4).reshape(1,3, 4, 4)\n",
    "print(r)\n",
    "naive_im2col(r+1, 1, 1, 2, 2)"
   ]
  },
  {
   "cell_type": "code",
   "execution_count": 9,
   "metadata": {},
   "outputs": [
    {
     "name": "stdout",
     "output_type": "stream",
     "text": [
      "True\n"
     ]
    }
   ],
   "source": [
    "test_conv2d(naive_im2col_conv2d)"
   ]
  },
  {
   "cell_type": "code",
   "execution_count": 10,
   "metadata": {},
   "outputs": [
    {
     "name": "stdout",
     "output_type": "stream",
     "text": [
      "Raw python:  21.136627309000687\n",
      "im2col:  5.1284166109999205\n",
      "pytorch's:  0.10551550399941334\n"
     ]
    }
   ],
   "source": [
    "# Benchmark the two implementations\n",
    "import timeit\n",
    "iterations = 10\n",
    "r = np.random.random((3, 3, 100, 100)).astype(np.float32)\n",
    "kernel = np.random.random((3, 3, 3, 3)).astype(np.float32)\n",
    "\n",
    "torch_conv = nn.Conv2d(3, 3, 3, 1, padding=0, dilation=1, bias=False)\n",
    "torch_conv.weight.data = torch.tensor(kernel)\n",
    "\n",
    "print(\"Raw python: \", timeit.timeit(lambda: naive_conv2d(r, kernel, 1), number=iterations))\n",
    "print(\"im2col: \", timeit.timeit(lambda: naive_im2col_conv2d(r, kernel, 1), number=iterations))\n",
    "print(\"pytorch's: \", timeit.timeit(lambda: torch_conv(torch.tensor(r)), number=iterations))"
   ]
  },
  {
   "cell_type": "markdown",
   "metadata": {},
   "source": [
    "*im2col* convolution is clearly faster. But our naive implementation lags behind pytorch's. We can improve it by using as_strided tricks."
   ]
  },
  {
   "cell_type": "code",
   "execution_count": 11,
   "metadata": {},
   "outputs": [],
   "source": [
    "def as_strided(x, shape, strides):\n",
    "  nb = x.dtype.itemsize\n",
    "  strides = tuple(stride*nb for stride in strides)\n",
    "  return np.lib.stride_tricks.as_strided(x, shape=shape, strides=strides)\n",
    "\n",
    "def im2col(x, sh, sw, kh, kw):\n",
    "  bs, c, h, w = x.shape\n",
    "\n",
    "  conv_h = (h - kh) // sh + 1\n",
    "  conv_w = (w - kw) // sw + 1\n",
    "\n",
    "  # Former loop rewritten for easier as_strided usage\n",
    "  # out_h = (kh*kw*c)\n",
    "  # out_w = conv_h * conv_w\n",
    "  # out = np.zeros((bs * out_h * out_w))\n",
    "  # out_bs_strides = out_h * out_w\n",
    "  # out_h_strides = out_w\n",
    "  # x = x.ravel()\n",
    "  # x_bs_strides = c * h * w\n",
    "  # x_c_strides = h * w\n",
    "  # x_h_strides = w\n",
    "  # for b in range(bs):\n",
    "  #   for ch in range(c):\n",
    "  #     for i in range(conv_h):\n",
    "  #       for j in range(conv_w):\n",
    "  #         for k in range(kh):\n",
    "  #           for l in range(kw):\n",
    "  #             out[b*out_bs_strides + \n",
    "  #                 (ch*kh*kw + k*kw + l)*out_h_strides +\n",
    "  #                 (i*conv_w + j)] = \\\n",
    "  #             x[b*x_bs_strides + ch * x_c_strides +\n",
    "  #               (i*sh + k)*x_h_strides +\n",
    "  #               j*sw + l]\n",
    "  # out = out.reshape(bs, out_h, out_w)\n",
    "\n",
    "  # Now it's easier to use as_strided\n",
    "\n",
    "  # x_idx = b*x_bs_strides + ch * x_c_strides +\n",
    "  #         (i*sh + k)*x_h_strides +\n",
    "  #         j*sw + l\n",
    "  # d (x_idx) / db = x_bs_strides\n",
    "  # d (x_idx) / dch = x_c_strides\n",
    "  # d (x_idx) / di = sh*x_h_strides\n",
    "  # d (x_idx) / dj = sw\n",
    "  # d (x_idx) / dk = x_h_strides\n",
    "  # d (x_idx) / dl = 1\n",
    "\n",
    "  x_bs_strides = c * h * w\n",
    "  x_c_strides = h * w\n",
    "  x_h_strides = w\n",
    "  out = as_strided(x, (bs, c, conv_h, conv_w, kh, kw), (x_bs_strides, x_c_strides, sh*x_h_strides, sw, x_h_strides, 1))\n",
    "  # for b in range(bs):\n",
    "  #   for ch in range(c):\n",
    "  #     for i in range(conv_h):\n",
    "  #       for j in range(conv_w):\n",
    "  #         for k in range(kh):\n",
    "  #           for l in range(kw):\n",
    "  #             out[b*out_bs_strides + (ch*kh*kw + k*kw + l)*out_h_strides + (i*conv_w + j)] = ...\n",
    "  # Notice (i*conv_w + j) is at the end so:\n",
    "  out = out.transpose(0, 1, 4, 5, 2, 3)\n",
    "  # out.shape = (bs, c, kh, kw, conv_h, conv_w)\n",
    "  # Reshape to (bs, out_h, out_w) = (bs, c * kh * kw, conv_h * conv_w)\n",
    "  out = out.reshape(bs, c * kh * kw, conv_h * conv_w)\n",
    "  \n",
    "  return out\n",
    "\n",
    "def as_strided_im2col_conv2d(x, kernel, strides):\n",
    "  if isinstance(strides, int):\n",
    "    strides = (strides, strides)\n",
    "  \n",
    "  bs, c, h, w = x.shape\n",
    "  out_features, in_features, kh, kw = kernel.shape\n",
    "  sh, sw = strides\n",
    "\n",
    "  if c != in_features:\n",
    "    raise ValueError(\"Input channels must match kernel channels\")\n",
    "\n",
    "  out_h = (h - kh) // sh + 1\n",
    "  out_w = (w - kw) // sw + 1\n",
    "\n",
    "  x_col = np.ascontiguousarray(im2col(x, sh, sw, kh, kw))\n",
    "  kernel_col = kernel.reshape(out_features, -1)\n",
    "\n",
    "  return np.matmul(kernel_col, x_col).reshape(bs, out_features, out_h, out_w)"
   ]
  },
  {
   "cell_type": "code",
   "execution_count": 12,
   "metadata": {},
   "outputs": [
    {
     "name": "stdout",
     "output_type": "stream",
     "text": [
      "[[[[ 0  1  2  3]\n",
      "   [ 4  5  6  7]\n",
      "   [ 8  9 10 11]\n",
      "   [12 13 14 15]]\n",
      "\n",
      "  [[16 17 18 19]\n",
      "   [20 21 22 23]\n",
      "   [24 25 26 27]\n",
      "   [28 29 30 31]]\n",
      "\n",
      "  [[32 33 34 35]\n",
      "   [36 37 38 39]\n",
      "   [40 41 42 43]\n",
      "   [44 45 46 47]]]]\n"
     ]
    },
    {
     "data": {
      "text/plain": [
       "array([[[ 1,  2,  3,  5,  6,  7,  9, 10, 11],\n",
       "        [ 2,  3,  4,  6,  7,  8, 10, 11, 12],\n",
       "        [ 5,  6,  7,  9, 10, 11, 13, 14, 15],\n",
       "        [ 6,  7,  8, 10, 11, 12, 14, 15, 16],\n",
       "        [17, 18, 19, 21, 22, 23, 25, 26, 27],\n",
       "        [18, 19, 20, 22, 23, 24, 26, 27, 28],\n",
       "        [21, 22, 23, 25, 26, 27, 29, 30, 31],\n",
       "        [22, 23, 24, 26, 27, 28, 30, 31, 32],\n",
       "        [33, 34, 35, 37, 38, 39, 41, 42, 43],\n",
       "        [34, 35, 36, 38, 39, 40, 42, 43, 44],\n",
       "        [37, 38, 39, 41, 42, 43, 45, 46, 47],\n",
       "        [38, 39, 40, 42, 43, 44, 46, 47, 48]]])"
      ]
     },
     "execution_count": 12,
     "metadata": {},
     "output_type": "execute_result"
    }
   ],
   "source": [
    "# Example from https://leonardoaraujosantos.gitbook.io/artificial-inteligence/machine_learning/deep_learning/convolution_layer/making_faster\n",
    "r = np.arange(3*4*4).reshape(1,3, 4, 4)\n",
    "print(r)\n",
    "im2col(r+1, 1, 1, 2, 2)"
   ]
  },
  {
   "cell_type": "code",
   "execution_count": 13,
   "metadata": {},
   "outputs": [
    {
     "name": "stdout",
     "output_type": "stream",
     "text": [
      "Raw python:  20.648738496998703\n",
      "im2col:  5.13208071400004\n",
      "im2col as_strided:  0.005101021999507793\n",
      "pytorch's:  0.002748929000517819\n"
     ]
    }
   ],
   "source": [
    "iterations = 10\n",
    "r = np.random.random((3, 3, 100, 100)).astype(np.float32)\n",
    "kernel = np.random.random((3, 3, 3, 3)).astype(np.float32)\n",
    "\n",
    "torch_conv = nn.Conv2d(3, 3, 3, 1, padding=0, dilation=1, bias=False)\n",
    "torch_conv.weight.data = torch.tensor(kernel)\n",
    "\n",
    "print(\"Raw python: \", timeit.timeit(lambda: naive_conv2d(r, kernel, 1), number=iterations))\n",
    "print(\"im2col: \", timeit.timeit(lambda: naive_im2col_conv2d(r, kernel, 1), number=iterations))\n",
    "print(\"im2col as_strided: \", timeit.timeit(lambda: as_strided_im2col_conv2d(r, kernel, 1), number=iterations))\n",
    "print(\"pytorch's: \", timeit.timeit(lambda: torch_conv(torch.tensor(r)), number=iterations))"
   ]
  },
  {
   "cell_type": "markdown",
   "metadata": {},
   "source": [
    "I must be tripping! Our new implementation is almost as fast as pytorch's!. Let's do some more tests to confirm."
   ]
  },
  {
   "cell_type": "code",
   "execution_count": 14,
   "metadata": {},
   "outputs": [
    {
     "name": "stdout",
     "output_type": "stream",
     "text": [
      "im2col as_strided:  28.469897312001194\n",
      "pytorch's:  10.562133766001352\n"
     ]
    }
   ],
   "source": [
    "iterations = 200\n",
    "r = np.random.random((3, 3, 1000, 1000)).astype(np.float32)\n",
    "kernel = np.random.random((3, 3, 3, 3)).astype(np.float32)\n",
    "\n",
    "torch_conv = nn.Conv2d(3, 3, 3, 1, padding=0, dilation=1, bias=False)\n",
    "torch_conv.weight.data = torch.tensor(kernel)\n",
    "\n",
    "print(\"im2col as_strided: \", timeit.timeit(lambda: as_strided_im2col_conv2d(r, kernel, 1), number=iterations))\n",
    "print(\"pytorch's: \", timeit.timeit(lambda: torch_conv(torch.tensor(r)), number=iterations))"
   ]
  },
  {
   "cell_type": "markdown",
   "metadata": {},
   "source": [
    "Siiiiiiiiike. Our implementation is actually slower. Who would have guessed? But it's still faster than the naive implementation."
   ]
  },
  {
   "cell_type": "markdown",
   "metadata": {},
   "source": [
    "If we do the as_strided trick directly on the naive convolution instead of the im2col, would it be faster?"
   ]
  },
  {
   "cell_type": "code",
   "execution_count": 15,
   "metadata": {},
   "outputs": [],
   "source": [
    "def as_strided_conv2d(x, kernel, strides):\n",
    "  if isinstance(strides, int):\n",
    "    strides = (strides, strides)\n",
    "  \n",
    "  bs, c, h, w = x.shape\n",
    "  out_features, in_features, kh, kw = kernel.shape\n",
    "  sh, sw = strides\n",
    "\n",
    "  if c != in_features:\n",
    "    raise ValueError(\"Input channels must match kernel channels\")\n",
    "\n",
    "  out_h = (h - kh) // sh + 1\n",
    "  out_w = (w - kw) // sw + 1\n",
    "\n",
    "  # out = np.zeros((bs, out_features, out_h, out_w))\n",
    "  # for b in range(bs):\n",
    "  #   for of in range(out_features):\n",
    "  #     for i in range(out_h):\n",
    "  #       for j in range(out_w):\n",
    "  #         for f in range(in_features):\n",
    "  #           for k in range(kh):\n",
    "  #             for l in range(kw):\n",
    "  #               out[b, of, i, j] += x[b, f, i*sh + k, j*sw + l] * kernel[of, f, k, l]\n",
    "\n",
    "\n",
    "  # Rewrite the loop to use as_strided easily\n",
    "  # out = np.zeros((bs * out_features * out_h * out_w))\n",
    "  # out_bs_strides = out_features * out_h * out_w\n",
    "  # out_f_strides = out_h * out_w\n",
    "  # out_h_strides = out_w\n",
    "\n",
    "  # x = x.ravel()\n",
    "  x_bs_strides = c * h * w\n",
    "  x_c_strides = h * w\n",
    "  x_h_strides = w\n",
    "\n",
    "  # kernel = kernel.ravel()\n",
    "  kernel_of_strides = in_features * kh * kw\n",
    "  kernel_if_strides = kh * kw\n",
    "  kernel_k_strides = kw\n",
    "  # for b in range(bs):\n",
    "  #   for of in range(out_features):\n",
    "  #     for i in range(out_h):\n",
    "  #       for j in range(out_w):\n",
    "  #         for f in range(in_features):\n",
    "  #           for k in range(kh):\n",
    "  #             for l in range(kw):\n",
    "  #               out_idx = b * out_bs_strides + of * out_f_strides + i * out_h_strides + j\n",
    "  #               x_idx = b * x_bs_strides + f * x_c_strides + (i*sh + k) * x_h_strides + (j*sw + l)\n",
    "  #               kernel_idx = of * kernel_of_strides + f * kernel_if_strides + k * kernel_k_strides + l\n",
    "  #               out[out_idx] += x[x_idx] * kernel[kernel_idx]\n",
    "  # out = out.reshape(bs, out_features, out_h, out_w)\n",
    "\n",
    "  loop_shape = (bs, out_features, out_h, out_w, in_features, kh, kw)\n",
    "  # d (x_idx) / db = x_bs_strides\n",
    "  # d (x_idx) / dof = 0\n",
    "  # d (x_idx) / di = sh*x_h_strides\n",
    "  # d (x_idx) / dj = sw\n",
    "  # d (x_idx) / df = x_c_strides\n",
    "  # d (x_idx) / dk = x_h_strides\n",
    "  # d (x_idx) / dl = 1\n",
    "  x = as_strided(x, loop_shape, (x_bs_strides, 0, sh*x_h_strides, sw, x_c_strides, x_h_strides, 1))\n",
    "\n",
    "  # d (kernel_idx) / db = 0\n",
    "  # d (kernel_idx) / dof = kernel_of_strides\n",
    "  # d (kernel_idx) / di = 0\n",
    "  # d (kernel_idx) / dj = 0\n",
    "  # d (kernel_idx) / df = kernel_if_strides\n",
    "  # d (kernel_idx) / dk = kernel_k_strides\n",
    "  # d (kernel_idx) / dl = 1\n",
    "  kernel = as_strided(kernel, loop_shape, (0, kernel_of_strides, 0, 0, kernel_if_strides, kernel_k_strides, 1))\n",
    "\n",
    "  x = np.ascontiguousarray(x)\n",
    "  kernel = np.ascontiguousarray(kernel)\n",
    "  \n",
    "  out = np.sum(x * kernel, axis=(4, 5, 6))\n",
    "\n",
    "  return out"
   ]
  },
  {
   "cell_type": "code",
   "execution_count": 16,
   "metadata": {},
   "outputs": [
    {
     "name": "stdout",
     "output_type": "stream",
     "text": [
      "True\n"
     ]
    }
   ],
   "source": [
    "r = np.random.random((3, 3, 10, 10)).astype(np.float32)\n",
    "kernel = np.random.random((3, 3, 3, 3)).astype(np.float32)\n",
    "\n",
    "o1 = naive_conv2d(r, kernel, 1)\n",
    "o2 = as_strided_conv2d(r, kernel, 1)\n",
    "\n",
    "print(np.allclose(o1, o2))"
   ]
  },
  {
   "cell_type": "code",
   "execution_count": 17,
   "metadata": {},
   "outputs": [
    {
     "name": "stdout",
     "output_type": "stream",
     "text": [
      "im2col as_strided:  1.4121128540009522\n",
      "conv as_strided:  15.061238737000167\n",
      "pytorch's:  0.539920388999235\n"
     ]
    }
   ],
   "source": [
    "iterations = 10\n",
    "r = np.random.random((3, 3, 1000, 1000)).astype(np.float32)\n",
    "kernel = np.random.random((3, 3, 3, 3)).astype(np.float32)\n",
    "\n",
    "torch_conv = nn.Conv2d(3, 3, 3, 1, padding=0, dilation=1, bias=False)\n",
    "torch_conv.weight.data = torch.tensor(kernel)\n",
    "\n",
    "# print(\"Raw python: \", timeit.timeit(lambda: naive_conv2d(r, kernel, 1), number=iterations))\n",
    "# print(\"im2col: \", timeit.timeit(lambda: naive_im2col_conv2d(r, kernel, 1), number=iterations))\n",
    "print(\"im2col as_strided: \", timeit.timeit(lambda: as_strided_im2col_conv2d(r, kernel, 1), number=iterations))\n",
    "print(\"conv as_strided: \", timeit.timeit(lambda: as_strided_conv2d(r, kernel, 1), number=iterations))\n",
    "print(\"pytorch's: \", timeit.timeit(lambda: torch_conv(torch.tensor(r)), number=iterations))"
   ]
  },
  {
   "cell_type": "markdown",
   "metadata": {},
   "source": [
    "Its slower wtf\n",
    "\n",
    "might revisit this later"
   ]
  }
 ],
 "metadata": {
  "kernelspec": {
   "display_name": "venv",
   "language": "python",
   "name": "python3"
  },
  "language_info": {
   "codemirror_mode": {
    "name": "ipython",
    "version": 3
   },
   "file_extension": ".py",
   "mimetype": "text/x-python",
   "name": "python",
   "nbconvert_exporter": "python",
   "pygments_lexer": "ipython3",
   "version": "3.10.13"
  }
 },
 "nbformat": 4,
 "nbformat_minor": 2
}
